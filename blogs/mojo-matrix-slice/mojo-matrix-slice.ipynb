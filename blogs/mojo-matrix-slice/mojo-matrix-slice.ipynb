{
 "cells": [
  {
   "cell_type": "markdown",
   "metadata": {},
   "source": [
    "*Copyright 2023 Modular, Inc: Licensed under the Apache License v2.0 with LLVM Exceptions.*"
   ]
  },
  {
   "cell_type": "code",
   "execution_count": 3,
   "metadata": {},
   "outputs": [
    {
     "name": "stdout",
     "output_type": "stream",
     "text": [
      "  [[0.8018   0.1558   0.4714   0.2557   0.9939]\n",
      "   [0.6987   0.8473   0.0693   0.1917   0.0081]\n",
      "   [0.4396   0.3896   0.1356   0.2492   0.4613]\n",
      "   [0.6983   0.2068   0.1822   0.3943   0.1424]\n",
      "   [0.7156   0.4731   0.3617   0.0003   0.9721]\n",
      "   [0.2425   0.6542   0.9402   0.5962   0.9038]\n",
      "   [0.3315   0.3040   0.6753   0.4497   0.4090]\n",
      "   [0.6183   0.7445   0.0473   0.6760   0.0181]]\n",
      "  Matrix: 8 x 5 , DType: float32\n",
      "\n",
      "  [[0.1356   0.2492   0.4613]\n",
      "   [0.1822   0.3943   0.1424]]\n",
      "  Matrix: 2 x 3 , DType: float32\n",
      "\n",
      "  [[0.6987   0.8473   0.0693   0.1917   0.0081]\n",
      "   [0.4396   0.3896   0.1356   0.2492   0.4613]]\n",
      "  Matrix: 2 x 5 , DType: float32\n",
      "\n",
      "  [[0.8018   0.1558   0.4714]\n",
      "   [0.6987   0.8473   0.0693]\n",
      "   [0.4396   0.3896   0.1356]]\n",
      "  Matrix: 3 x 3 , DType: float32\n",
      "\n",
      "  [[0.6987   0.0693   0.0081]\n",
      "   [0.6983   0.1822   0.1424]\n",
      "   [0.2425   0.9402   0.9038]\n",
      "   [0.6183   0.0473   0.0181]]\n",
      "  Matrix: 4 x 3 , DType: float32\n",
      "\n",
      "  Matrix: 8 x 0 , DType: float32\n",
      "\n",
      "  Matrix: 0 x 5 , DType: float32\n",
      "\n"
     ]
    }
   ],
   "source": [
    "from memory import memset_zero\n",
    "from algorithm import vectorize, parallelize\n",
    "from sys.intrinsics import strided_load\n",
    "from math import trunc\n",
    "from random import rand\n",
    "\n",
    "\n",
    "struct Matrix[dtype: DType = DType.float32]:\n",
    "    var dim0: Int\n",
    "    var dim1: Int\n",
    "    var _data: DTypePointer[dtype]\n",
    "    alias simd_width: Int = simdwidthof[dtype]()\n",
    "\n",
    "    fn __init__(inout self, *dims: Int):\n",
    "        self.dim0 = dims[0]\n",
    "        self.dim1 = dims[1]\n",
    "        self._data = DTypePointer[dtype].alloc(dims[0] * dims[1])\n",
    "        rand(self._data, dims[0] * dims[1])\n",
    "\n",
    "    fn __copyinit__(inout self, other: Self):\n",
    "        self._data = other._data\n",
    "        self.dim0 = other.dim0\n",
    "        self.dim1 = other.dim1\n",
    "\n",
    "    fn _adjust_slice_(self, inout span: Slice, dim: Int):\n",
    "        if span.start < 0:\n",
    "            span.start = dim + span.start\n",
    "        if not span._has_end():\n",
    "            span.end = dim\n",
    "        elif span.end < 0:\n",
    "            span.end = dim + span.end\n",
    "        if span.end > dim:\n",
    "            span.end = dim\n",
    "        if span.end < span.start:\n",
    "            span.start = 0\n",
    "            span.end = 0\n",
    "\n",
    "    fn __getitem__(self, x: Int, y: Int) -> SIMD[dtype, 1]:\n",
    "        return self._data.load[width=1](x * self.dim1 + y)\n",
    "\n",
    "    fn __getitem__(self, owned row_slice: Slice, col: Int) -> Self:\n",
    "        return self.__getitem__(row_slice, slice(col, col + 1))\n",
    "\n",
    "    fn __getitem__(self, row: Int, owned col_slice: Slice) -> Self:\n",
    "        return self.__getitem__(slice(row, row + 1), col_slice)\n",
    "\n",
    "    fn __getitem__(self, owned row_slice: Slice, owned col_slice: Slice) -> Self:\n",
    "        self._adjust_slice_(row_slice, self.dim0)\n",
    "        self._adjust_slice_(col_slice, self.dim1)\n",
    "\n",
    "        var src_ptr = self._data\n",
    "        var sliced_mat = Self(row_slice.__len__(), col_slice.__len__())\n",
    "\n",
    "        @parameter\n",
    "        fn slice_column(idx_rows: Int):\n",
    "            src_ptr = self._data.offset(row_slice[idx_rows] * self.dim1 + col_slice[0])\n",
    "\n",
    "            @parameter\n",
    "            fn slice_row[simd_width: Int](idx: Int) -> None:\n",
    "                sliced_mat._data.store[width=simd_width](\n",
    "                    idx + idx_rows * col_slice.__len__(),\n",
    "                    strided_load[dtype, simd_width](src_ptr, col_slice.step),\n",
    "                )\n",
    "                src_ptr = src_ptr.offset(simd_width * col_slice.step)\n",
    "\n",
    "            vectorize[slice_row, self.simd_width](col_slice.__len__())\n",
    "\n",
    "        parallelize[slice_column](row_slice.__len__(), row_slice.__len__())\n",
    "        return sliced_mat\n",
    "\n",
    "    fn print(self, prec: Int = 4) -> None:\n",
    "        var rank: Int = 2\n",
    "        var dim0: Int = 0\n",
    "        var dim1: Int = 0\n",
    "        var val: Scalar[dtype] = 0.0\n",
    "        if self.dim0 == 1:\n",
    "            rank = 1\n",
    "            dim0 = 1\n",
    "            dim1 = self.dim1\n",
    "        else:\n",
    "            dim0 = self.dim0\n",
    "            dim1 = self.dim1\n",
    "        if dim0 > 0 and dim1 > 0:\n",
    "            for j in range(dim0):\n",
    "                if rank > 1:\n",
    "                    if j == 0:\n",
    "                        print(\"  [\", end=\"\")\n",
    "                    else:\n",
    "                        print(\"\\n   \", end=\"\")\n",
    "                print(\"[\", end=\"\")\n",
    "                for k in range(dim1):\n",
    "                    if rank == 1:\n",
    "                        val = self._data.load[width=1](k)\n",
    "                    if rank == 2:\n",
    "                        val = self[j, k]\n",
    "                    var int_str: String\n",
    "                    if val > 0 or val == 0:\n",
    "                        int_str = String(trunc(val).cast[DType.int32]())\n",
    "                    else:\n",
    "                        int_str = \"-\" + String(trunc(val).cast[DType.int32]())\n",
    "                        val = -val\n",
    "                    var float_str: String\n",
    "                    float_str = String(val % 1)\n",
    "                    var s = int_str + \".\" + float_str[2 : prec + 2]\n",
    "                    if k == 0:\n",
    "                        print(s, end=\"\")\n",
    "                    else:\n",
    "                        print(\"  \", s, end=\"\")\n",
    "                print(\"]\", end=\"\")\n",
    "            if rank > 1:\n",
    "                print(\"]\", end=\"\")\n",
    "            print()\n",
    "            if rank > 2:\n",
    "                print(\"]\")\n",
    "        print(\"  Matrix:\", self.dim0, \"x\", self.dim1, \",\", \"DType:\", dtype.__str__())\n",
    "        print()\n",
    "\n",
    "\n",
    "fn main():\n",
    "    var mat = Matrix(8, 5)\n",
    "    mat.print()\n",
    "\n",
    "    mat[2:4, -3:].print()\n",
    "    mat[1:3, :].print()\n",
    "    mat[0:3, 0:3].print()\n",
    "    mat[1::2, ::2].print()\n",
    "    mat[:, -1:2].print()\n",
    "    mat[-1:2, :].print()\n",
    "\n",
    "\n",
    "main()"
   ]
  },
  {
   "cell_type": "code",
   "execution_count": 4,
   "metadata": {},
   "outputs": [
    {
     "name": "stdout",
     "output_type": "stream",
     "text": [
      "  [[0.9665   0.6154   0.4682   0.6210   0.1587]\n",
      "   [0.1424   0.8650   0.0967   0.4542   0.3257]\n",
      "   [0.5143   0.1336   0.0697   0.0295   0.9835]\n",
      "   [0.9586   0.0020   0.3794   0.4057   0.2009]\n",
      "   [0.3561   0.7346   0.6252   0.3567   0.1171]\n",
      "   [0.6604   0.8526   0.1731   0.1798   0.6336]\n",
      "   [0.4802   0.4312   0.7539   0.0289   0.0820]\n",
      "   [0.6080   0.6512   0.8540   0.2766   0.6509]]\n",
      "  Matrix: 8 x 5 , DType: float32\n",
      "\n"
     ]
    }
   ],
   "source": [
    "var mat = Matrix(8, 5)\n",
    "mat.print()"
   ]
  },
  {
   "cell_type": "code",
   "execution_count": 5,
   "metadata": {},
   "outputs": [
    {
     "name": "stdout",
     "output_type": "stream",
     "text": [
      "  [[0.0697   0.0295   0.9835]\n",
      "   [0.3794   0.4057   0.2009]]\n",
      "  Matrix: 2 x 3 , DType: float32\n",
      "\n"
     ]
    }
   ],
   "source": [
    "mat[2:4, -3:].print()"
   ]
  },
  {
   "cell_type": "code",
   "execution_count": 6,
   "metadata": {},
   "outputs": [
    {
     "name": "stdout",
     "output_type": "stream",
     "text": [
      "  [[0.1424   0.8650   0.0967   0.4542   0.3257]\n",
      "   [0.5143   0.1336   0.0697   0.0295   0.9835]]\n",
      "  Matrix: 2 x 5 , DType: float32\n",
      "\n"
     ]
    }
   ],
   "source": [
    "mat[1:3, :].print()"
   ]
  },
  {
   "cell_type": "code",
   "execution_count": 7,
   "metadata": {},
   "outputs": [
    {
     "name": "stdout",
     "output_type": "stream",
     "text": [
      "  [[0.9665   0.6154   0.4682]\n",
      "   [0.1424   0.8650   0.0967]\n",
      "   [0.5143   0.1336   0.0697]]\n",
      "  Matrix: 3 x 3 , DType: float32\n",
      "\n"
     ]
    }
   ],
   "source": [
    "mat[0:3, 0:3].print()"
   ]
  },
  {
   "cell_type": "code",
   "execution_count": 8,
   "metadata": {},
   "outputs": [
    {
     "name": "stdout",
     "output_type": "stream",
     "text": [
      "  [[0.1424   0.0967   0.3257]\n",
      "   [0.9586   0.3794   0.2009]\n",
      "   [0.6604   0.1731   0.6336]\n",
      "   [0.6080   0.8540   0.6509]]\n",
      "  Matrix: 4 x 3 , DType: float32\n",
      "\n"
     ]
    }
   ],
   "source": [
    "mat[1::2, ::2].print()"
   ]
  },
  {
   "cell_type": "code",
   "execution_count": 9,
   "metadata": {},
   "outputs": [
    {
     "name": "stdout",
     "output_type": "stream",
     "text": [
      "  Matrix: 8 x 0 , DType: float32\n",
      "\n",
      "  Matrix: 0 x 5 , DType: float32\n",
      "\n"
     ]
    }
   ],
   "source": [
    "mat[:, -1:2].print()\n",
    "mat[-1:2, :].print()"
   ]
  }
 ],
 "metadata": {
  "kernelspec": {
   "display_name": "Mojo",
   "language": "mojo",
   "name": "mojo-jupyter-kernel"
  },
  "language_info": {
   "codemirror_mode": {
    "name": "mojo"
   },
   "file_extension": ".mojo",
   "mimetype": "text/x-mojo",
   "name": "mojo"
  }
 },
 "nbformat": 4,
 "nbformat_minor": 2
}
